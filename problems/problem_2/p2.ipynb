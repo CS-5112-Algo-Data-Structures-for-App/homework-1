{
 "cells": [
  {
   "cell_type": "code",
   "execution_count": 1,
   "id": "daed5597-c294-4442-86ca-caf175e21192",
   "metadata": {},
   "outputs": [],
   "source": [
    "'''\n",
    "Problem 2\n",
    "\n",
    "input: Integer M and a list of intervals [a, b].\n",
    "output: List of list of integers composing the covering.\n",
    "\n",
    "TODO: implement a correct greedy algorithm from the homework.\n",
    "'''\n",
    "def interval_covering(M: int, intervals: list) -> list:\n",
    "    J_dict = {}\n",
    "    \n",
    "    c = M\n",
    "    \n",
    "    \n",
    "    for interval in intervals:\n",
    "        if max(interval) > c:\n",
    "            pass\n",
    "        else:\n",
    "            intervals.remove(interval)\n",
    "    \n",
    "    intervals.pop(max())\n",
    "            \n",
    "            \n",
    "    return J_dict"
   ]
  },
  {
   "cell_type": "code",
   "execution_count": 81,
   "id": "cae1c46d-f808-46f9-886d-a5adbfbafd36",
   "metadata": {
    "tags": []
   },
   "outputs": [],
   "source": [
    "M = 10\n",
    "intervals = [[0, 2], [1, 6], [0, 6], [3, 5]]\n"
   ]
  },
  {
   "cell_type": "code",
   "execution_count": 82,
   "id": "eaf8a9b6-6a45-4478-b50f-1eb98cedd257",
   "metadata": {
    "tags": []
   },
   "outputs": [
    {
     "name": "stdout",
     "output_type": "stream",
     "text": [
      "[[0, 2], [1, 6], [0, 6], [3, 5]]\n",
      "[[0, 2]]\n"
     ]
    }
   ],
   "source": [
    "c = max(intervals)[1]\n",
    "J_lst = []\n",
    "\n",
    "while len(intervals)>0:\n",
    "    print(intervals)\n",
    "    for interval in intervals:\n",
    "        if max(interval) < c:\n",
    "            pass\n",
    "        else:\n",
    "            intervals.remove(interval)\n",
    "            \n",
    "    if len(intervals) > 0:\n",
    "        latest_finish_lst = max(intervals)\n",
    "        J_lst.append(latest_finish_lst)\n",
    "        intervals.remove(latest_finish_lst)\n",
    "\n",
    "        c = latest_finish_lst[0]"
   ]
  },
  {
   "cell_type": "code",
   "execution_count": 83,
   "id": "743d12bc-e674-4873-b3e9-962115b88db0",
   "metadata": {
    "tags": []
   },
   "outputs": [
    {
     "data": {
      "text/plain": [
       "[[0, 6]]"
      ]
     },
     "execution_count": 83,
     "metadata": {},
     "output_type": "execute_result"
    }
   ],
   "source": [
    "J_lst"
   ]
  }
 ],
 "metadata": {
  "kernelspec": {
   "display_name": "Python 3 (ipykernel)",
   "language": "python",
   "name": "python3"
  },
  "language_info": {
   "codemirror_mode": {
    "name": "ipython",
    "version": 3
   },
   "file_extension": ".py",
   "mimetype": "text/x-python",
   "name": "python",
   "nbconvert_exporter": "python",
   "pygments_lexer": "ipython3",
   "version": "3.9.2"
  }
 },
 "nbformat": 4,
 "nbformat_minor": 5
}
