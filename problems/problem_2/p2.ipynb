{
 "cells": [
  {
   "cell_type": "code",
   "execution_count": 108,
   "id": "cae1c46d-f808-46f9-886d-a5adbfbafd36",
   "metadata": {
    "tags": []
   },
   "outputs": [],
   "source": [
    "M = 6\n",
    "intervals = [[0, 2], [3, 5], [0, 6], [1, 6]]"
   ]
  },
  {
   "cell_type": "code",
   "execution_count": 109,
   "id": "eaf8a9b6-6a45-4478-b50f-1eb98cedd257",
   "metadata": {
    "tags": []
   },
   "outputs": [
    {
     "name": "stdout",
     "output_type": "stream",
     "text": [
      "J_lst: []\n",
      "intervals: [[0, 2], [0, 6], [1, 6], [3, 5]]\n",
      "c: 0\n"
     ]
    }
   ],
   "source": [
    "J_lst = []\n",
    "c = 0\n",
    "\n",
    "intervals.sort()\n",
    "\n",
    "while M > c:\n",
    "\n",
    "    intervals_w_c_lst = []\n",
    "    for interval in intervals:\n",
    "        if interval[0] > c:\n",
    "            break\n",
    "        else:\n",
    "            intervals_w_c_lst.append(interval)\n",
    "    J_lst.append(max(intervals_w_c_lst))\n",
    "    \n",
    "    c = max(J_lst)[1]\n",
    "    \n",
    "    for interval_c in intervals_w_c_lst:\n",
    "        intervals.remove(interval_c)"
   ]
  },
  {
   "cell_type": "code",
   "execution_count": 99,
   "id": "a5bbc99b-c418-485e-8773-13d814a79b12",
   "metadata": {
    "tags": []
   },
   "outputs": [
    {
     "data": {
      "text/plain": [
       "5"
      ]
     },
     "execution_count": 99,
     "metadata": {},
     "output_type": "execute_result"
    }
   ],
   "source": [
    "max(intervals)[1]"
   ]
  },
  {
   "cell_type": "code",
   "execution_count": null,
   "id": "e0ceeda1-8091-441b-9245-e9d29c4a3eeb",
   "metadata": {
    "tags": []
   },
   "outputs": [],
   "source": [
    "c = 0\n",
    "\n",
    "intervals_w_c_lst = []\n"
   ]
  },
  {
   "cell_type": "code",
   "execution_count": null,
   "id": "743d12bc-e674-4873-b3e9-962115b88db0",
   "metadata": {
    "tags": []
   },
   "outputs": [],
   "source": []
  }
 ],
 "metadata": {
  "kernelspec": {
   "display_name": "Python 3 (ipykernel)",
   "language": "python",
   "name": "python3"
  },
  "language_info": {
   "codemirror_mode": {
    "name": "ipython",
    "version": 3
   },
   "file_extension": ".py",
   "mimetype": "text/x-python",
   "name": "python",
   "nbconvert_exporter": "python",
   "pygments_lexer": "ipython3",
   "version": "3.9.2"
  }
 },
 "nbformat": 4,
 "nbformat_minor": 5
}
