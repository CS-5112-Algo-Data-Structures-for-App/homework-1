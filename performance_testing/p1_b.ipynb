{
 "cells": [
  {
   "cell_type": "code",
   "execution_count": 4,
   "id": "84e1ab1c-532a-4f82-abb0-5607f4448358",
   "metadata": {
    "tags": []
   },
   "outputs": [
    {
     "ename": "SyntaxError",
     "evalue": "invalid syntax (3936296952.py, line 6)",
     "output_type": "error",
     "traceback": [
      "\u001b[0;36m  Cell \u001b[0;32mIn[4], line 6\u001b[0;36m\u001b[0m\n\u001b[0;31m    from problems/problem_1/p1_b import linear_search, binary_search\u001b[0m\n\u001b[0m                 ^\u001b[0m\n\u001b[0;31mSyntaxError\u001b[0m\u001b[0;31m:\u001b[0m invalid syntax\n"
     ]
    }
   ],
   "source": [
    "import matplotlib.pyplot as plt\n",
    "import os\n",
    "import random\n",
    "import time\n",
    "\n",
    "from problems/problem_1/p1_b import linear_search, binary_search"
   ]
  },
  {
   "cell_type": "code",
   "execution_count": 3,
   "id": "7654c58b-a3eb-4b0c-8b57-f1b1532ee2a0",
   "metadata": {
    "tags": []
   },
   "outputs": [
    {
     "data": {
      "text/plain": [
       "'/home/mds377/github/homework-1'"
      ]
     },
     "execution_count": 3,
     "metadata": {},
     "output_type": "execute_result"
    }
   ],
   "source": [
    "os.path.dirname(os.getcwd())"
   ]
  },
  {
   "cell_type": "code",
   "execution_count": null,
   "id": "550f5f63-c27e-450a-83cd-c020915a4dd8",
   "metadata": {},
   "outputs": [],
   "source": [
    "# List sizes\n",
    "sizes = [10, 100, 1000, 10000, 100000, 1000000]\n",
    "\n",
    "# List to store times\n",
    "linear_times = []\n",
    "\n",
    "# Profile the functions\n",
    "for size in sizes:\n",
    "    # Generate Data\n",
    "    lst_sorted = sorted([random.randint(1, size) for i in range(size)])\n",
    "    target_int = random.choice(lst_sorted)\n",
    "    \n",
    "    # Linear search time\n",
    "    linear_start_time_flt = time.time()# start time\n",
    "    linear_search(lst_sorted, target_int)# function\n",
    "    linear_end_time_flt = time.time()# end time\n",
    "    linear_times.append(linear_end_time_flt - linear_start_time_flt)# add to end of list\n",
    "\n",
    "# Plotting\n",
    "plt.plot(sizes, linear_times, marker='o', label='Linear Search', color='blue')\n",
    "plt.plot(sizes, binary_times, marker='o', label='Binary Search', color='red')\n",
    "plt.xscale('log')\n",
    "plt.yscale('log')\n",
    "plt.xlabel('List Size')\n",
    "plt.ylabel('Time (seconds)')\n",
    "plt.savefig(os.path.join(os.path.dirname(os.path.dirname(os.getcwd())),'latex/figures/linear-vs-binary.png'))"
   ]
  }
 ],
 "metadata": {
  "kernelspec": {
   "display_name": "venv",
   "language": "python",
   "name": "venv"
  },
  "language_info": {
   "codemirror_mode": {
    "name": "ipython",
    "version": 3
   },
   "file_extension": ".py",
   "mimetype": "text/x-python",
   "name": "python",
   "nbconvert_exporter": "python",
   "pygments_lexer": "ipython3",
   "version": "3.9.2"
  }
 },
 "nbformat": 4,
 "nbformat_minor": 5
}
