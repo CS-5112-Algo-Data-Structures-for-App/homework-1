{
 "cells": [
  {
   "cell_type": "code",
   "execution_count": 1,
   "id": "84e1ab1c-532a-4f82-abb0-5607f4448358",
   "metadata": {
    "tags": []
   },
   "outputs": [],
   "source": [
    "import matplotlib.pyplot as plt\n",
    "import numpy as np\n",
    "import os\n",
    "import random\n",
    "import sys\n",
    "import time\n",
    "from tqdm import tqdm\n",
    "sys.path.append(os.path.dirname(os.getcwd()))\n",
    "\n",
    "from problems.problem_1.p1_c import stable_matching_1c"
   ]
  },
  {
   "cell_type": "code",
   "execution_count": 2,
   "id": "23168048-e9fb-4a0b-be99-f7f24ad31cbc",
   "metadata": {
    "tags": []
   },
   "outputs": [],
   "source": [
    "def scramble_list(list_of_numbers):\n",
    "  \"\"\"Scramble the order of a list of numbers.\n",
    "\n",
    "  Args:\n",
    "    list_of_numbers: A list of numbers.\n",
    "\n",
    "  Returns:\n",
    "    A scrambled list of numbers.\n",
    "  \"\"\"\n",
    "\n",
    "  random.shuffle(list_of_numbers)\n",
    "  return list_of_numbers\n",
    "\n",
    "def create_text_inputs(size):\n",
    "    # Add in the n value at start of .txt\n",
    "    lines = [str(size)]\n",
    "    \n",
    "    # Create the lines that are a list of the integers scrambled\n",
    "    for _ in range(2*size):\n",
    "        lines.append(\" \".join(str(element) for element in scramble_list(list(range(size)))))\n",
    "        \n",
    "    # Write text input file    \n",
    "    with open('input/test_p1c_student_n' + str(size) + '.txt', 'w') as f:\n",
    "        for line in lines:\n",
    "          f.write(line)\n",
    "          f.write(\"\\n\")"
   ]
  },
  {
   "cell_type": "code",
   "execution_count": null,
   "id": "4549e2ac-abd9-4bdd-b647-eb4681733432",
   "metadata": {
    "tags": []
   },
   "outputs": [],
   "source": [
    "## Create input text files\n",
    "\n",
    "# List sizes\n",
    "sizes = [int(i) for i in np.linspace(2, 10000, 10)]\n",
    "\n",
    "for size in tqdm(sizes):\n",
    "    # create the text file that is being used\n",
    "    create_text_inputs(size)"
   ]
  },
  {
   "cell_type": "code",
   "execution_count": null,
   "id": "550f5f63-c27e-450a-83cd-c020915a4dd8",
   "metadata": {
    "jupyter": {
     "source_hidden": true
    },
    "tags": []
   },
   "outputs": [],
   "source": [
    "## Get run times \n",
    "\n",
    "# List to store times\n",
    "func_times = []\n",
    "\n",
    "# Get run times\n",
    "for size in tqdm(sizes):\n",
    "    # set start time\n",
    "    start_time = time.time()\n",
    "    \n",
    "    # run function\n",
    "    stable_matching_1b('input/test_p1_student_n' + str(size) + '.txt')\n",
    "    \n",
    "    # add time to list of times\n",
    "    func_times.append(time.time() - start_time)"
   ]
  },
  {
   "cell_type": "code",
   "execution_count": null,
   "id": "4eabe6bf-da2c-4c45-9cea-e17512aa38ac",
   "metadata": {
    "tags": []
   },
   "outputs": [],
   "source": [
    "# Plotting\n",
    "plt.plot(sizes, func_times, marker='o', label='Problem 1b', color='blue')\n",
    "# plt.xscale('log')\n",
    "# plt.yscale('log')\n",
    "plt.xlabel('List Size')\n",
    "plt.ylabel('Time (seconds)')\n",
    "# plt.savefig(os.path.join(os.path.dirname(os.path.dirname(os.getcwd())),'latex/figures/linear-vs-binary.png'))"
   ]
  }
 ],
 "metadata": {
  "kernelspec": {
   "display_name": "venv",
   "language": "python",
   "name": "venv"
  },
  "language_info": {
   "codemirror_mode": {
    "name": "ipython",
    "version": 3
   },
   "file_extension": ".py",
   "mimetype": "text/x-python",
   "name": "python",
   "nbconvert_exporter": "python",
   "pygments_lexer": "ipython3",
   "version": "3.9.2"
  }
 },
 "nbformat": 4,
 "nbformat_minor": 5
}
